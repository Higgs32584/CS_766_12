{
 "cells": [
  {
   "cell_type": "markdown",
   "id": "89e06ef3",
   "metadata": {},
   "source": [
    "1. [20 pts] In this assignment, we will approach the problem with Word2Vec and contextual analysis of keywords towards sentiment/category processing in our pipeline.\n",
    "Generate a gensim model of movie reviews. Use any parameters you like while answering the questions (2.) and (3.) below.\n",
    "Report the size of the vocabulary and characteristics of the gensim model, such as the number of mapping dimensions, etc."
   ]
  },
  {
   "cell_type": "code",
   "execution_count": 1,
   "id": "26b3aa53",
   "metadata": {},
   "outputs": [],
   "source": [
    "import re\n",
    "from nltk.corpus import stopwords\n",
    "import nltk\n",
    "def ie_preprocess(document):\n",
    "    document = re.sub('<br />', '', document)\n",
    "    document = re.sub(r'[^\\w\\s]', ' ', document)\n",
    "    sentences = [nltk.word_tokenize(sent) for sent in nltk.sent_tokenize(document)]\n",
    "    stop_words = set(stopwords.words('english'))\n",
    "    return [[word for word in sent if word.lower() not in stop_words] for sent in sentences][0]"
   ]
  },
  {
   "cell_type": "code",
   "execution_count": 2,
   "id": "f882f4a9",
   "metadata": {},
   "outputs": [],
   "source": [
    "import csv\n",
    "import pandas as pd\n",
    "path='./movie_data.csv'\n",
    "df=pd.read_csv(path)"
   ]
  },
  {
   "cell_type": "code",
   "execution_count": 3,
   "id": "cdb250c9",
   "metadata": {},
   "outputs": [],
   "source": [
    "df['review']=df['review'].apply(ie_preprocess)"
   ]
  },
  {
   "cell_type": "code",
   "execution_count": 4,
   "id": "9a325aac",
   "metadata": {},
   "outputs": [
    {
     "name": "stdout",
     "output_type": "stream",
     "text": [
      "gensim version= 4.3.2\n",
      "gensim model vocabulary has 77747 words mapped to N= 100 dimensions\n"
     ]
    }
   ],
   "source": [
    "import nltk\n",
    "import gensim\n",
    "print(f'gensim version= {gensim.__version__}')\n",
    "from gensim.models import Word2Vec\n",
    "\n",
    "from nltk.corpus import abc\n",
    "\n",
    "sents = list(df['review'])\n",
    "\n",
    "model = Word2Vec(df['review'], min_count=2, workers=4)\n",
    "X = list(model.wv.index_to_key)\n",
    "\n",
    "\n",
    "print(f'gensim model vocabulary has {len(X)} words mapped to N= {model.vector_size} dimensions')"
   ]
  },
  {
   "cell_type": "markdown",
   "id": "14662890",
   "metadata": {},
   "source": [
    "2. [20 pts] Generate the contexts for the following keywords:\n",
    "(a.) melancholy\n",
    "(b.) ghastly\n",
    "(c.) lackluster\n",
    "(d.) romantic"
   ]
  },
  {
   "cell_type": "code",
   "execution_count": 7,
   "id": "9c0677f7",
   "metadata": {},
   "outputs": [
    {
     "data": {
      "text/plain": [
       "[('wistful', 0.8618030548095703),\n",
       " ('powerfully', 0.8534363508224487),\n",
       " ('spontaneous', 0.8386438488960266),\n",
       " ('sensual', 0.8320813179016113),\n",
       " ('lyrical', 0.8318663239479065),\n",
       " ('tenderness', 0.8310872912406921),\n",
       " ('somber', 0.8268701434135437),\n",
       " ('elegance', 0.8260715007781982),\n",
       " ('joyous', 0.8244810104370117),\n",
       " ('aura', 0.821577250957489)]"
      ]
     },
     "execution_count": 7,
     "metadata": {},
     "output_type": "execute_result"
    }
   ],
   "source": [
    "model.wv.most_similar('melancholy'),"
   ]
  },
  {
   "cell_type": "code",
   "execution_count": 8,
   "metadata": {},
   "outputs": [
    {
     "data": {
      "text/plain": [
       "[('spastic', 0.7884919047355652),\n",
       " ('transparent', 0.7854024767875671),\n",
       " ('rubbery', 0.7850725054740906),\n",
       " ('gunwhales', 0.7823657989501953),\n",
       " ('thudding', 0.779283881187439),\n",
       " ('anachronistic', 0.7777515649795532),\n",
       " ('hideously', 0.7773488759994507),\n",
       " ('Atmosphere', 0.773285984992981),\n",
       " ('phoney', 0.7703019976615906),\n",
       " ('abominable', 0.7700594663619995)]"
      ]
     },
     "execution_count": 8,
     "metadata": {},
     "output_type": "execute_result"
    }
   ],
   "source": [
    "model.wv.most_similar('ghastly')"
   ]
  },
  {
   "cell_type": "code",
   "execution_count": 9,
   "metadata": {},
   "outputs": [
    {
     "data": {
      "text/plain": [
       "[('uninspired', 0.8849737644195557),\n",
       " ('uneven', 0.8598752617835999),\n",
       " ('leaden', 0.8545973300933838),\n",
       " ('uninspiring', 0.8521710634231567),\n",
       " ('pedestrian', 0.8505023717880249),\n",
       " ('stilted', 0.8278570771217346),\n",
       " ('abysmal', 0.8236872553825378),\n",
       " ('bland', 0.8222702145576477),\n",
       " ('dismal', 0.8161261677742004),\n",
       " ('lethargic', 0.8146429657936096)]"
      ]
     },
     "execution_count": 9,
     "metadata": {},
     "output_type": "execute_result"
    }
   ],
   "source": [
    "model.wv.most_similar('lackluster')"
   ]
  },
  {
   "cell_type": "code",
   "execution_count": 10,
   "metadata": {},
   "outputs": [
    {
     "data": {
      "text/plain": [
       "[('romance', 0.8038605451583862),\n",
       " ('screwball', 0.7067616581916809),\n",
       " ('tender', 0.6498826146125793),\n",
       " ('touching', 0.6463902592658997),\n",
       " ('poignant', 0.6307582855224609),\n",
       " ('gentle', 0.6267974972724915),\n",
       " ('sentimental', 0.6156450510025024),\n",
       " ('bittersweet', 0.6069542169570923),\n",
       " ('charming', 0.6010169386863708),\n",
       " ('sweet', 0.5930174589157104)]"
      ]
     },
     "execution_count": 10,
     "metadata": {},
     "output_type": "execute_result"
    }
   ],
   "source": [
    "model.wv.most_similar('romantic')"
   ]
  },
  {
   "cell_type": "markdown",
   "id": "f5d26f32",
   "metadata": {},
   "source": [
    "3. [20 pts] Group the reviews into two by the original ground truth of sentiments and repeat question (2.) by generating a positive and a negative gensim model. Report the contexts (4 positive and 4 negative)."
   ]
  },
  {
   "cell_type": "code",
   "execution_count": 22,
   "metadata": {},
   "outputs": [
    {
     "name": "stdout",
     "output_type": "stream",
     "text": [
      "gensim model vocabulary has 55169 words mapped to N= 100 dimensions\n",
      "[('Lukas', 0.9403665661811829), ('Celeste', 0.9313252568244934), ('chirpy', 0.9282054901123047), ('Antony', 0.9281792044639587), ('Clifton', 0.9252954721450806), ('Carmen', 0.9250258207321167), ('Peil', 0.9236600995063782), ('Cross', 0.9227039813995361), ('Empress', 0.922613263130188), ('substituting', 0.9225777387619019)]\n",
      "[('Liotti', 0.9338012933731079), ('tasteful', 0.9292261600494385), ('chintzy', 0.9290462136268616), ('Combine', 0.9285081028938293), ('Samardzic', 0.9284804463386536), ('excessively', 0.9267778396606445), ('EE', 0.9240484237670898), ('cheery', 0.9232284426689148), ('sais', 0.9224592447280884), ('belies', 0.9219242930412292)]\n",
      "[('leaden', 0.9276651740074158), ('uninspired', 0.9264911413192749), ('uninspiring', 0.9200718998908997), ('uneven', 0.9148015975952148), ('pedestrian', 0.9060354828834534), ('offset', 0.9018392562866211), ('nonexistent', 0.9002106189727783), ('dismal', 0.8993278741836548), ('abysmal', 0.8967571258544922), ('insipid', 0.8963427543640137)]\n",
      "[('romance', 0.860069215297699), ('screwball', 0.7955442070960999), ('slapstick', 0.7911707162857056), ('drama', 0.7514134049415588), ('frothy', 0.7267331480979919), ('witty', 0.7122905850410461), ('categorized', 0.7080110907554626), ('sentimental', 0.7034335136413574), ('humorous', 0.6921024322509766), ('charming', 0.6886531710624695)]\n",
      "gensim model vocabulary has 57030 words mapped to N= 100 dimensions\n",
      "[('evoking', 0.9129672050476074), ('muted', 0.9107983708381653), ('joyous', 0.9028070569038391), ('subtly', 0.9018523693084717), ('dreamy', 0.8963719606399536), ('tinged', 0.893433153629303), ('intensely', 0.8895578980445862), ('powerfully', 0.8892752528190613), ('wistful', 0.8890008926391602), ('wondrous', 0.8848156332969666)]\n",
      "[('toying', 0.9379907250404358), ('fetish', 0.936164915561676), ('castles', 0.932361900806427), ('cobweb', 0.929141104221344), ('whips', 0.9285226464271545), ('brio', 0.9281843304634094), ('Dagmar', 0.9278502464294434), ('browns', 0.9258073568344116), ('sized', 0.9253460764884949), ('polka', 0.9251104593276978)]\n",
      "[('eschews', 0.9221292734146118), ('anachronistic', 0.9209588170051575), ('pedigree', 0.9207471609115601), ('lull', 0.9190678596496582), ('surfaces', 0.9187849760055542), ('observant', 0.9177647829055786), ('customary', 0.9169378876686096), ('opaque', 0.9152014255523682), ('notwithstanding', 0.9150581955909729), ('constructively', 0.9149019718170166)]\n",
      "[('romance', 0.8647686839103699), ('screwball', 0.7213267683982849), ('touching', 0.7173570394515991), ('erotic', 0.7098600268363953), ('poignant', 0.70976322889328), ('fairy', 0.697534441947937), ('sentimental', 0.6939523220062256), ('fantasy', 0.6824086904525757), ('Screwball', 0.6756627559661865), ('tender', 0.6680160164833069)]\n"
     ]
    }
   ],
   "source": [
    "\n",
    "sentiment_0=df[df['sentiment'] == 0]['review']\n",
    "sentiment_1=df[df['sentiment'] == 1]['review']\n",
    "\n",
    "\n",
    "def different_sentiment(reviews):\n",
    "\n",
    "    model = Word2Vec(reviews, min_count=2, workers=4)\n",
    "    X = list(model.wv.index_to_key)\n",
    "\n",
    "\n",
    "    print(f'gensim model vocabulary has {len(X)} words mapped to N= {model.vector_size} dimensions')\n",
    "    print(model.wv.most_similar('melancholy'))\n",
    "    print(model.wv.most_similar('ghastly'))\n",
    "    print(model.wv.most_similar('lackluster'))\n",
    "    print(model.wv.most_similar('romantic'))\n",
    "different_sentiment(sentiment_0)\n",
    "different_sentiment(sentiment_1)\n"
   ]
  },
  {
   "cell_type": "markdown",
   "id": "3ad3be3a",
   "metadata": {},
   "source": [
    "5. [20 pts] Read the following paper:\n",
    "Maas, Andrew L., et al. \"Learning word vectors for sentiment analysis.\" Proceedings of the 49th annual meeting of the association for computational linguistics: Human language technologies-volume 1. Association for Computational Linguistics, 2011.\n",
    "Comment about and/or align your results in this homework."
   ]
  },
  {
   "cell_type": "markdown",
   "id": "0de51a3e",
   "metadata": {},
   "source": [
    "4. [20 pts] Comment about similarities and differences in (3.). Any comments on why romantic context was not affected?"
   ]
  },
  {
   "cell_type": "code",
   "execution_count": null,
   "id": "21d2f811",
   "metadata": {},
   "outputs": [],
   "source": []
  }
 ],
 "metadata": {
  "kernelspec": {
   "display_name": "Python 3 (ipykernel)",
   "language": "python",
   "name": "python3"
  },
  "language_info": {
   "codemirror_mode": {
    "name": "ipython",
    "version": 3
   },
   "file_extension": ".py",
   "mimetype": "text/x-python",
   "name": "python",
   "nbconvert_exporter": "python",
   "pygments_lexer": "ipython3",
   "version": "3.10.13"
  }
 },
 "nbformat": 4,
 "nbformat_minor": 5
}
