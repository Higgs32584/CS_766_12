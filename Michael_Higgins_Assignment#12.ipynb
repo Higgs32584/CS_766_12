{
 "cells": [
  {
   "cell_type": "markdown",
   "id": "89e06ef3",
   "metadata": {},
   "source": [
    "1. [20 pts] In this assignment, we will approach the problem with Word2Vec and contextual analysis of keywords towards sentiment/category processing in our pipeline.\n",
    "Generate a gensim model of movie reviews. Use any parameters you like while answering the questions (2.) and (3.) below.\n",
    "Report the size of the vocabulary and characteristics of the gensim model, such as the number of mapping dimensions, etc."
   ]
  },
  {
   "cell_type": "code",
   "execution_count": 1,
   "id": "26b3aa53",
   "metadata": {},
   "outputs": [],
   "source": [
    "import re\n",
    "from nltk.corpus import stopwords\n",
    "import nltk\n",
    "def ie_preprocess(document):\n",
    "    document = re.sub('<br />', '', document)\n",
    "    document = re.sub(r'[^\\w\\s]', ' ', document)\n",
    "    sentences = [nltk.word_tokenize(sent) for sent in nltk.sent_tokenize(document)]\n",
    "    stop_words = set(stopwords.words('english'))\n",
    "    return [[word for word in sent if word.lower() not in stop_words] for sent in sentences][0]"
   ]
  },
  {
   "cell_type": "code",
   "execution_count": 2,
   "id": "f882f4a9",
   "metadata": {},
   "outputs": [],
   "source": [
    "import csv\n",
    "import pandas as pd\n",
    "path='./movie_data.csv'\n",
    "df=pd.read_csv(path)"
   ]
  },
  {
   "cell_type": "code",
   "execution_count": 3,
   "id": "cdb250c9",
   "metadata": {},
   "outputs": [],
   "source": [
    "df['review']=df['review'].apply(ie_preprocess)"
   ]
  },
  {
   "cell_type": "code",
   "execution_count": 4,
   "id": "9a325aac",
   "metadata": {},
   "outputs": [
    {
     "name": "stdout",
     "output_type": "stream",
     "text": [
      "gensim version= 4.3.2\n",
      "gensim model vocabulary has 77747 words mapped to N= 100 dimensions\n"
     ]
    }
   ],
   "source": [
    "import nltk\n",
    "import gensim\n",
    "print(f'gensim version= {gensim.__version__}')\n",
    "from gensim.models import Word2Vec\n",
    "\n",
    "from nltk.corpus import abc\n",
    "\n",
    "sents = list(df['review'])\n",
    "\n",
    "model = Word2Vec(df['review'], min_count=2, workers=4)\n",
    "X = list(model.wv.index_to_key)\n",
    "\n",
    "\n",
    "print(f'gensim model vocabulary has {len(X)} words mapped to N= {model.vector_size} dimensions')"
   ]
  },
  {
   "cell_type": "markdown",
   "id": "14662890",
   "metadata": {},
   "source": [
    "2. [20 pts] Generate the contexts for the following keywords:\n",
    "(a.) melancholy\n",
    "(b.) ghastly\n",
    "(c.) lackluster\n",
    "(d.) romantic"
   ]
  },
  {
   "cell_type": "code",
   "execution_count": 5,
   "id": "9c0677f7",
   "metadata": {},
   "outputs": [
    {
     "data": {
      "text/plain": [
       "([('powerfully', 0.8492774963378906),\n",
       "  ('wistful', 0.8488004207611084),\n",
       "  ('elegance', 0.8439174294471741),\n",
       "  ('lyrical', 0.8364806175231934),\n",
       "  ('sensual', 0.8362995386123657),\n",
       "  ('dreamy', 0.8284203410148621),\n",
       "  ('tenderness', 0.8245759606361389),\n",
       "  ('enchanting', 0.8214840888977051),\n",
       "  ('evocative', 0.8206413984298706),\n",
       "  ('affecting', 0.8191242218017578)],)"
      ]
     },
     "execution_count": 5,
     "metadata": {},
     "output_type": "execute_result"
    }
   ],
   "source": [
    "model.wv.most_similar('melancholy'),"
   ]
  },
  {
   "cell_type": "code",
   "execution_count": 6,
   "metadata": {},
   "outputs": [
    {
     "data": {
      "text/plain": [
       "[('transparent', 0.7996708154678345),\n",
       " ('rubbery', 0.7784503102302551),\n",
       " ('thudding', 0.7772441506385803),\n",
       " ('naff', 0.7730329632759094),\n",
       " ('flabby', 0.7718597650527954),\n",
       " ('soulless', 0.7715681195259094),\n",
       " ('pastel', 0.7656320929527283),\n",
       " ('grotesquely', 0.7638882994651794),\n",
       " ('ogre', 0.7606737017631531),\n",
       " ('greenish', 0.759727418422699)]"
      ]
     },
     "execution_count": 6,
     "metadata": {},
     "output_type": "execute_result"
    }
   ],
   "source": [
    "model.wv.most_similar('ghastly')"
   ]
  },
  {
   "cell_type": "code",
   "execution_count": 7,
   "metadata": {},
   "outputs": [
    {
     "data": {
      "text/plain": [
       "[('uninspired', 0.8729032278060913),\n",
       " ('uneven', 0.8582224249839783),\n",
       " ('dismal', 0.845085620880127),\n",
       " ('uninspiring', 0.841022789478302),\n",
       " ('pedestrian', 0.8365830779075623),\n",
       " ('leaden', 0.8307527899742126),\n",
       " ('turgid', 0.8289234042167664),\n",
       " ('lethargic', 0.817794144153595),\n",
       " ('stilted', 0.8150004148483276),\n",
       " ('amateurish', 0.809618353843689)]"
      ]
     },
     "execution_count": 7,
     "metadata": {},
     "output_type": "execute_result"
    }
   ],
   "source": [
    "model.wv.most_similar('lackluster')"
   ]
  },
  {
   "cell_type": "code",
   "execution_count": 8,
   "metadata": {},
   "outputs": [
    {
     "data": {
      "text/plain": [
       "[('romance', 0.7989781498908997),\n",
       " ('screwball', 0.7238531112670898),\n",
       " ('tender', 0.6482086777687073),\n",
       " ('poignant', 0.6228998303413391),\n",
       " ('touching', 0.6206278800964355),\n",
       " ('bittersweet', 0.6038159132003784),\n",
       " ('sentimental', 0.5991921424865723),\n",
       " ('reaffirming', 0.5954933762550354),\n",
       " ('frothy', 0.5837821364402771),\n",
       " ('uplifting', 0.5831743478775024)]"
      ]
     },
     "execution_count": 8,
     "metadata": {},
     "output_type": "execute_result"
    }
   ],
   "source": [
    "model.wv.most_similar('romantic')"
   ]
  },
  {
   "cell_type": "markdown",
   "id": "f5d26f32",
   "metadata": {},
   "source": [
    "3. [20 pts] Group the reviews into two by the original ground truth of sentiments and repeat question (2.) by generating a positive and a negative gensim model. Report the contexts (4 positive and 4 negative)."
   ]
  },
  {
   "cell_type": "code",
   "execution_count": 9,
   "metadata": {},
   "outputs": [
    {
     "name": "stdout",
     "output_type": "stream",
     "text": [
      "gensim model vocabulary has 55169 words mapped to N= 100 dimensions\n",
      "[('Seberg', 0.9365330338478088), ('enigmatic', 0.9292488694190979), ('Bergen', 0.9209020733833313), ('Irit', 0.9208400249481201), ('Eggar', 0.9208371639251709), ('substituting', 0.9200350046157837), ('mannered', 0.9186382293701172), ('Binoche', 0.9186217188835144), ('bohemian', 0.9180573225021362), ('depressives', 0.9179893732070923)]\n",
      "[('chintzy', 0.9380182027816772), ('excessively', 0.9327852129936218), ('BLUE', 0.9279466867446899), ('Liotti', 0.9270133376121521), ('FLIES', 0.9209648966789246), ('stagy', 0.9208546876907349), ('plethora', 0.9195451736450195), ('BEATS', 0.9194968938827515), ('ranging', 0.9188086986541748), ('slabs', 0.9185315370559692)]\n",
      "[('uninspired', 0.9211742281913757), ('uneven', 0.9176979660987854), ('lacklustre', 0.9164472818374634), ('leaden', 0.8993801474571228), ('pedestrian', 0.8918802738189697), ('unremarkable', 0.8904005289077759), ('dismal', 0.8877403736114502), ('unimpressive', 0.8796568512916565), ('nonexistent', 0.8794621825218201), ('turgid', 0.8783438205718994)]\n",
      "[('romance', 0.8844351768493652), ('screwball', 0.8341564536094666), ('drama', 0.7604414820671082), ('sexiness', 0.7490590810775757), ('slapstick', 0.7463483810424805), ('witty', 0.7291645407676697), ('sentimental', 0.7275509238243103), ('psychological', 0.7107446193695068), ('gripping', 0.7081184387207031), ('irony', 0.701878011226654)]\n",
      "gensim model vocabulary has 57030 words mapped to N= 100 dimensions\n",
      "[('auditory', 0.8871687054634094), ('evoking', 0.8870655298233032), ('austere', 0.884986937046051), ('discreet', 0.8841752409934998), ('joyous', 0.8797648549079895), ('spontaneous', 0.8795326352119446), ('tenderness', 0.879442036151886), ('earthy', 0.8783858418464661), ('meditative', 0.8767737150192261), ('sensuality', 0.8767374157905579)]\n",
      "[('piercing', 0.948922336101532), ('skies', 0.9314596652984619), ('wintry', 0.9280759692192078), ('amidst', 0.9271131157875061), ('sights', 0.9253270626068115), ('cloaked', 0.9252380132675171), ('dashes', 0.9247920513153076), ('frayed', 0.9230759739875793), ('decaying', 0.9203923344612122), ('playfully', 0.9201914072036743)]\n",
      "[('satisfyingly', 0.9357634782791138), ('Kawai', 0.9320445656776428), ('Kenji', 0.9287377595901489), ('economical', 0.9275645613670349), ('patchwork', 0.9182466268539429), ('baroque', 0.9181515574455261), ('Moreover', 0.9170221090316772), ('somber', 0.9163901805877686), ('efficient', 0.9150684475898743), ('Persian', 0.9150083661079407)]\n",
      "[('romance', 0.8572112321853638), ('fairy', 0.7090681195259094), ('tender', 0.7069777250289917), ('touching', 0.7003387212753296), ('screwball', 0.699263334274292), ('poignant', 0.6888882517814636), ('fantasy', 0.6882760524749756), ('erotic', 0.6812409162521362), ('reaffirming', 0.677689254283905), ('charming', 0.6692528128623962)]\n"
     ]
    }
   ],
   "source": [
    "\n",
    "def different_sentiment(df, sentiment):\n",
    "    reviews = df[df['sentiment'] == sentiment]['review']\n",
    "    model = Word2Vec(reviews, min_count=2, workers=4)\n",
    "    X = list(model.wv.index_to_key)\n",
    "\n",
    "    print(f'gensim model vocabulary has {len(X)} words mapped to N= {model.vector_size} dimensions')\n",
    "    print(model.wv.most_similar('melancholy'))\n",
    "    print(model.wv.most_similar('ghastly'))\n",
    "    print(model.wv.most_similar('lackluster'))\n",
    "    print(model.wv.most_similar('romantic'))\n",
    "\n",
    "# Assuming df is your DataFrame\n",
    "different_sentiment(df, 0)\n",
    "different_sentiment(df, 1)"
   ]
  },
  {
   "cell_type": "markdown",
   "metadata": {},
   "source": [
    "4. [20 pts] Comment about similarities and differences in (3.). Any comments on why romantic context was not affected?"
   ]
  },
  {
   "cell_type": "markdown",
   "metadata": {},
   "source": [
    "One Similarity is that uninspired is the leading similarity for both sentiment 0 and the combined sentiments, which makes sense, since that kind of word is most commonly used within the context of negativity. Sensual is also shared in the positive sentiment for melancholy, as well as tenderness.\n",
    "\n",
    "One of the reasons that romance is not affected by the sentiment is likely due to the fact that there is no difference in the context that these words are presented. For example, while melancholy might change depending on the sentiment, since melancholy would have multiple examples in the same semantic context as melancholy in sentiment 0, there would be a lot of similar words within that context. \n",
    "\n",
    "Since there may be a lack of examples for melancholy in sentiment 1, the words the words with the highest similarity scores might be inappropriate examples."
   ]
  },
  {
   "cell_type": "markdown",
   "id": "3ad3be3a",
   "metadata": {},
   "source": [
    "5. [20 pts] Read the following paper:\n",
    "Maas, Andrew L., et al. \"Learning word vectors for sentiment analysis.\" Proceedings of the 49th annual meeting of the association for computational linguistics: Human language technologies-volume 1. Association for Computational Linguistics, 2011.\n",
    "Comment about and/or align your results in this homework.\n",
    "\n",
    "In the paper, there was discussion of the differences of semantics and sentiment. Expressive content and Semantic Content are distinct. Because of this, we see that our model attempts to capture only the semantic meaning of a word, especially when it appears in the same contexts in terms of vector represenation but fails to capture the sentimental meaning of a word. Since words like romance have more of a neutral sentiment, as well as context, this is likely why it succeeds regardless of the sentiment group."
   ]
  },
  {
   "cell_type": "markdown",
   "metadata": {},
   "source": [
    "In the paper, there was discussion of the differences of semantics and sentiment. Expressive content and Semantic Content are distinct. Because of this, we see that our model attempts to capture only the semantic meaning of a word, especially when it appears in the same contexts in terms of vector represenation but fails to capture the sentimental meaning of a word. Since words like romance have more of a neutral sentiment, this is likely why it succeeds regardless of the sentiment group. This is also why, for instance, the model fails to capture"
   ]
  }
 ],
 "metadata": {
  "kernelspec": {
   "display_name": "Python 3 (ipykernel)",
   "language": "python",
   "name": "python3"
  },
  "language_info": {
   "codemirror_mode": {
    "name": "ipython",
    "version": 3
   },
   "file_extension": ".py",
   "mimetype": "text/x-python",
   "name": "python",
   "nbconvert_exporter": "python",
   "pygments_lexer": "ipython3",
   "version": "3.10.13"
  }
 },
 "nbformat": 4,
 "nbformat_minor": 5
}
